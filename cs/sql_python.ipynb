{
 "nbformat": 4,
 "nbformat_minor": 2,
 "metadata": {
  "language_info": {
   "name": "python",
   "codemirror_mode": {
    "name": "ipython",
    "version": 3
   },
   "version": "3.7.4-final"
  },
  "orig_nbformat": 2,
  "file_extension": ".py",
  "mimetype": "text/x-python",
  "name": "python",
  "npconvert_exporter": "python",
  "pygments_lexer": "ipython3",
  "version": 3,
  "kernelspec": {
   "name": "python37464bitbasecondaeb9f0636332d422a9bbe6ab294d7e162",
   "display_name": "Python 3.7.4 64-bit ('base': conda)"
  }
 },
 "cells": [
  {
   "cell_type": "markdown",
   "execution_count": null,
   "metadata": {},
   "outputs": [],
   "source": [
    "# In this notebook we look at using SQLite databases using Python and Pandas\n",
    "\n",
    "## References:\n",
    "* https://www.dataquest.io/blog/python-pandas-databases/"
   ]
  },
  {
   "cell_type": "code",
   "execution_count": 2,
   "metadata": {},
   "outputs": [],
   "source": [
    "import pandas as pd\n",
    "import sqlite3"
   ]
  },
  {
   "cell_type": "markdown",
   "execution_count": null,
   "metadata": {},
   "outputs": [],
   "source": [
    "Once you have a connection object, you can create a cursor object that let's you execute SQL queries. \n",
    "* Remember to close the cursor and connection objects when not in use since they lock the SQLite database and it might not be able to be updated\n",
    "* The results are given in an array of tuples"
   ]
  },
  {
   "cell_type": "code",
   "execution_count": 3,
   "metadata": {},
   "outputs": [
    {
     "name": "stdout",
     "output_type": "stream",
     "text": "[(0, '1', 'Private flight', '\\\\N', '-', None, None, None, 'Y'), (1, '2', '135 Airways', '\\\\N', None, 'GNL', 'GENERAL', 'United States', 'N'), (2, '3', '1Time Airline', '\\\\N', '1T', 'RNX', 'NEXTIME', 'South Africa', 'Y'), (3, '4', '2 Sqn No 1 Elementary Flying Training School', '\\\\N', None, 'WYT', None, 'United Kingdom', 'N'), (4, '5', '213 Flight Unit', '\\\\N', None, 'TFU', None, 'Russia', 'N')]\n"
    }
   ],
   "source": [
    "# Connect to the database\n",
    "conn = sqlite3.connect(\"data/flights.db\")\n",
    "\n",
    "# Create a cursor object\n",
    "cur = conn.cursor()\n",
    "\n",
    "# Execute query\n",
    "cur.execute(\"SELECT * FROM airlines LIMIT 5;\")\n",
    "\n",
    "# Fetch the results\n",
    "results = cur.fetchall()\n",
    "print(results)\n",
    "\n",
    "# Close the connection\n",
    "cur.close()\n",
    "conn.close()"
   ]
  },
  {
   "cell_type": "markdown",
   "execution_count": null,
   "metadata": {},
   "outputs": [],
   "source": [
    "## Using Pandas"
   ]
  },
  {
   "cell_type": "code",
   "execution_count": 6,
   "metadata": {},
   "outputs": [
    {
     "data": {
      "text/html": "<div>\n<style scoped>\n    .dataframe tbody tr th:only-of-type {\n        vertical-align: middle;\n    }\n\n    .dataframe tbody tr th {\n        vertical-align: top;\n    }\n\n    .dataframe thead th {\n        text-align: right;\n    }\n</style>\n<table border=\"1\" class=\"dataframe\">\n  <thead>\n    <tr style=\"text-align: right;\">\n      <th></th>\n      <th>index</th>\n      <th>id</th>\n      <th>name</th>\n      <th>alias</th>\n      <th>iata</th>\n      <th>icao</th>\n      <th>callsign</th>\n      <th>country</th>\n      <th>active</th>\n    </tr>\n  </thead>\n  <tbody>\n    <tr>\n      <th>0</th>\n      <td>0</td>\n      <td>1</td>\n      <td>Private flight</td>\n      <td>\\N</td>\n      <td>-</td>\n      <td>None</td>\n      <td>None</td>\n      <td>None</td>\n      <td>Y</td>\n    </tr>\n    <tr>\n      <th>1</th>\n      <td>1</td>\n      <td>2</td>\n      <td>135 Airways</td>\n      <td>\\N</td>\n      <td>None</td>\n      <td>GNL</td>\n      <td>GENERAL</td>\n      <td>United States</td>\n      <td>N</td>\n    </tr>\n    <tr>\n      <th>2</th>\n      <td>2</td>\n      <td>3</td>\n      <td>1Time Airline</td>\n      <td>\\N</td>\n      <td>1T</td>\n      <td>RNX</td>\n      <td>NEXTIME</td>\n      <td>South Africa</td>\n      <td>Y</td>\n    </tr>\n    <tr>\n      <th>3</th>\n      <td>3</td>\n      <td>4</td>\n      <td>2 Sqn No 1 Elementary Flying Training School</td>\n      <td>\\N</td>\n      <td>None</td>\n      <td>WYT</td>\n      <td>None</td>\n      <td>United Kingdom</td>\n      <td>N</td>\n    </tr>\n    <tr>\n      <th>4</th>\n      <td>4</td>\n      <td>5</td>\n      <td>213 Flight Unit</td>\n      <td>\\N</td>\n      <td>None</td>\n      <td>TFU</td>\n      <td>None</td>\n      <td>Russia</td>\n      <td>N</td>\n    </tr>\n  </tbody>\n</table>\n</div>",
      "text/plain": "   index id                                          name alias  iata  icao  \\\n0      0  1                                Private flight    \\N     -  None   \n1      1  2                                   135 Airways    \\N  None   GNL   \n2      2  3                                 1Time Airline    \\N    1T   RNX   \n3      3  4  2 Sqn No 1 Elementary Flying Training School    \\N  None   WYT   \n4      4  5                               213 Flight Unit    \\N  None   TFU   \n\n  callsign         country active  \n0     None            None      Y  \n1  GENERAL   United States      N  \n2  NEXTIME    South Africa      Y  \n3     None  United Kingdom      N  \n4     None          Russia      N  "
     },
     "execution_count": 6,
     "metadata": {},
     "output_type": "execute_result"
    }
   ],
   "source": [
    "# Create the connection object\n",
    "conn = sqlite3.connect(\"data/flights.db\")\n",
    "\n",
    "# Read the data from an SQL query\n",
    "query = \"SELECT * FROM airlines LIMIT 10;\"\n",
    "\n",
    "df = pd.read_sql_query(query, conn)\n",
    "\n",
    "# Close the connection\n",
    "conn.close()\n",
    "\n",
    "df.head(n=5)"
   ]
  },
  {
   "cell_type": "markdown",
   "execution_count": null,
   "metadata": {},
   "outputs": [],
   "source": [
    "## Modifying the database rows\n",
    "* We can insert, update or delete rows\n",
    "* You need to specify the values into columns\n",
    "* You need to commit a transaction to do 1 or more queries to do all the changes to the database at once"
   ]
  },
  {
   "cell_type": "code",
   "execution_count": 18,
   "metadata": {},
   "outputs": [
    {
     "name": "stdout",
     "output_type": "stream",
     "text": "index     id         name alias iata  icao callsign country active\n0   6048  19846  Test flight             None     None    None      Y\n1   6048  19846  Test flight             None     None    None      Y\n2   6048  19846  Test flight             None     None    None      Y\n"
    }
   ],
   "source": [
    "# Create the connection object\n",
    "conn = sqlite3.connect(\"data/flights.db\")\n",
    "\n",
    "# Create the cursor object\n",
    "cur = conn.cursor()\n",
    "\n",
    "# Insert query\n",
    "query = \"INSERT INTO airlines VALUES (6048, 19846, 'Test flight', '', '', null, null, null, 'Y')\"\n",
    "\n",
    "# Execute the query\n",
    "cur.execute(query)\n",
    "\n",
    "# Commit all the changes\n",
    "conn.commit()\n",
    "\n",
    "print(pd.read_sql_query(\"SELECT * FROM airlines where id=19846;\", conn))\n",
    "\n",
    "# Close the Cursor and the connection\n",
    "cur.close()\n",
    "conn.close()"
   ]
  },
  {
   "cell_type": "code",
   "execution_count": 20,
   "metadata": {},
   "outputs": [
    {
     "name": "stdout",
     "output_type": "stream",
     "text": "Empty DataFrame\nColumns: [index, id, name, alias, iata, icao, callsign, country, active]\nIndex: []\n"
    }
   ],
   "source": [
    "# To delete a row, we do sometying similar\n",
    "\n",
    "# Create the connection object\n",
    "conn = sqlite3.connect(\"data/flights.db\")\n",
    "\n",
    "# Create the cursor object\n",
    "cur = conn.cursor()\n",
    "\n",
    "# Insert query\n",
    "values = (19846, ) # has to be a tuple?\n",
    "query = \"DELETE FROM airlines WHERE id=?\"\n",
    "\n",
    "# Execute the query\n",
    "cur.execute(query,values)\n",
    "\n",
    "# Commit all the changes\n",
    "conn.commit()\n",
    "\n",
    "print(pd.read_sql_query(\"SELECT * FROM airlines where id=19846;\", conn))\n",
    "\n",
    "# Close the Cursor and the connection\n",
    "cur.close()\n",
    "conn.close()"
   ]
  },
  {
   "cell_type": "markdown",
   "execution_count": null,
   "metadata": {},
   "outputs": [],
   "source": [
    "## Creating a table with pandas\n",
    "* You could also add a column to a table by creating a new pandas DF with the new column and replace the table in the database"
   ]
  },
  {
   "cell_type": "code",
   "execution_count": 25,
   "metadata": {},
   "outputs": [
    {
     "data": {
      "text/html": "<div>\n<style scoped>\n    .dataframe tbody tr th:only-of-type {\n        vertical-align: middle;\n    }\n\n    .dataframe tbody tr th {\n        vertical-align: top;\n    }\n\n    .dataframe thead th {\n        text-align: right;\n    }\n</style>\n<table border=\"1\" class=\"dataframe\">\n  <thead>\n    <tr style=\"text-align: right;\">\n      <th></th>\n      <th>index</th>\n      <th>id</th>\n      <th>departure</th>\n      <th>arrival</th>\n      <th>number</th>\n      <th>route_id</th>\n    </tr>\n  </thead>\n  <tbody>\n    <tr>\n      <th>0</th>\n      <td>0</td>\n      <td>1</td>\n      <td>2016-09-29 00:00:00</td>\n      <td>2016-09-29 12:00:00</td>\n      <td>T1</td>\n      <td>1</td>\n    </tr>\n  </tbody>\n</table>\n</div>",
      "text/plain": "   index  id            departure              arrival number  route_id\n0      0   1  2016-09-29 00:00:00  2016-09-29 12:00:00     T1         1"
     },
     "execution_count": 25,
     "metadata": {},
     "output_type": "execute_result"
    }
   ],
   "source": [
    "from datetime import datetime\n",
    "\n",
    "df = pd.DataFrame(\n",
    "    [[1, datetime(2016, 9, 29, 0, 0) ,\n",
    "    datetime(2016, 9, 29, 12, 0), 'T1', 1]],\n",
    "    columns=[\"id\", \"departure\", \"arrival\", \"number\", \"route_id\"])\n",
    "\n",
    "# Create the connection object\n",
    "conn = sqlite3.connect(\"data/flights.db\")\n",
    "\n",
    "# Sendthe table to the SQLite database\n",
    "df.to_sql(\"daily_flights\", conn, if_exists=\"replace\")\n",
    "\n",
    "# Read the new table\n",
    "query = \"SELECT * FROM daily_flights\"\n",
    "df_new = pd.read_sql_query(query, conn)\n",
    "\n",
    "# Close connection\n",
    "conn.close()\n",
    "\n",
    "df_new.head()"
   ]
  }
 ]
}